{
 "cells": [
  {
   "cell_type": "code",
   "execution_count": 1,
   "metadata": {},
   "outputs": [],
   "source": [
    "import pandas as pd\n",
    "import numpy as np\n",
    "import matplotlib.pyplot as plt\n",
    "%matplotlib inline"
   ]
  },
  {
   "cell_type": "markdown",
   "metadata": {},
   "source": [
    "<h1>Straight Push Exercise:</h1>\n",
    "<font size=\"5\"> It's expected to Change Ax (move forward and backward). Check Gx and Ay to verify whether the wrist is perpendicular to table and shakeness</font> <br>\n",
    "<font size=\"4\"> 1) Compare 3 failure cases with correct exercise</font> <br>\n",
    "<font size=\"4\"> 2) Compare this exercise in different tables</font> <br>"
   ]
  },
  {
   "cell_type": "code",
   "execution_count": 4,
   "metadata": {},
   "outputs": [],
   "source": [
    "S = pd.read_csv(\"Straight.csv\");\n",
    "S_FL = pd.read_csv (\"Straight_FL.csv\");\n",
    "S_FP = pd.read_csv(\"Straight_FP.csv\");\n",
    "S_FS = pd.read_csv (\"Straight_FS.csv\");\n",
    "S2 = pd.read_csv(\"Straight2.csv\");"
   ]
  },
  {
   "cell_type": "code",
   "execution_count": 5,
   "metadata": {},
   "outputs": [],
   "source": [
    "nan = float(\"NaN\");\n",
    "S.replace(\"\",nan,inplace=True)\n",
    "S.dropna(subset = [\"gX\"], inplace=True)\n",
    "S_FL.replace(\"\",nan,inplace=True)\n",
    "S_FL.dropna(subset = [\"gX\"], inplace=True)\n",
    "S_FP.replace(\"\",nan,inplace=True)\n",
    "S_FP.dropna(subset = [\"gX\"], inplace=True)\n",
    "S_FS.replace(\"\",nan,inplace=True)\n",
    "S_FS.dropna(subset = [\"gX\"], inplace=True)\n",
    "S2.replace(\"\",nan,inplace=True)\n",
    "S2.dropna(subset = [\"gX\"], inplace=True)"
   ]
  },
  {
   "cell_type": "code",
   "execution_count": 6,
   "metadata": {},
   "outputs": [
    {
     "data": {
      "text/html": [
       "<div>\n",
       "<style scoped>\n",
       "    .dataframe tbody tr th:only-of-type {\n",
       "        vertical-align: middle;\n",
       "    }\n",
       "\n",
       "    .dataframe tbody tr th {\n",
       "        vertical-align: top;\n",
       "    }\n",
       "\n",
       "    .dataframe thead th {\n",
       "        text-align: right;\n",
       "    }\n",
       "</style>\n",
       "<table border=\"1\" class=\"dataframe\">\n",
       "  <thead>\n",
       "    <tr style=\"text-align: right;\">\n",
       "      <th></th>\n",
       "      <th>aX</th>\n",
       "      <th>aY</th>\n",
       "      <th>aZ</th>\n",
       "      <th>gX</th>\n",
       "      <th>gY</th>\n",
       "      <th>gZ</th>\n",
       "      <th>Roll</th>\n",
       "      <th>Pitch</th>\n",
       "    </tr>\n",
       "  </thead>\n",
       "  <tbody>\n",
       "    <tr>\n",
       "      <th>count</th>\n",
       "      <td>317.000000</td>\n",
       "      <td>317.000000</td>\n",
       "      <td>317.000000</td>\n",
       "      <td>317.000000</td>\n",
       "      <td>317.000000</td>\n",
       "      <td>317.000000</td>\n",
       "      <td>317.000000</td>\n",
       "      <td>317.000000</td>\n",
       "    </tr>\n",
       "    <tr>\n",
       "      <th>mean</th>\n",
       "      <td>0.059101</td>\n",
       "      <td>0.971871</td>\n",
       "      <td>0.116584</td>\n",
       "      <td>2.534394</td>\n",
       "      <td>1.095155</td>\n",
       "      <td>0.260148</td>\n",
       "      <td>82.118069</td>\n",
       "      <td>3.448524</td>\n",
       "    </tr>\n",
       "    <tr>\n",
       "      <th>std</th>\n",
       "      <td>0.048744</td>\n",
       "      <td>0.024222</td>\n",
       "      <td>0.062454</td>\n",
       "      <td>9.528398</td>\n",
       "      <td>6.849334</td>\n",
       "      <td>3.644320</td>\n",
       "      <td>3.571002</td>\n",
       "      <td>2.419999</td>\n",
       "    </tr>\n",
       "    <tr>\n",
       "      <th>min</th>\n",
       "      <td>-0.107000</td>\n",
       "      <td>0.875000</td>\n",
       "      <td>-0.183000</td>\n",
       "      <td>-39.978000</td>\n",
       "      <td>-17.944000</td>\n",
       "      <td>-10.925000</td>\n",
       "      <td>74.499000</td>\n",
       "      <td>-1.638000</td>\n",
       "    </tr>\n",
       "    <tr>\n",
       "      <th>25%</th>\n",
       "      <td>0.022000</td>\n",
       "      <td>0.959000</td>\n",
       "      <td>0.070000</td>\n",
       "      <td>-1.587000</td>\n",
       "      <td>-2.075000</td>\n",
       "      <td>-1.953000</td>\n",
       "      <td>79.322000</td>\n",
       "      <td>1.321000</td>\n",
       "    </tr>\n",
       "    <tr>\n",
       "      <th>50%</th>\n",
       "      <td>0.056000</td>\n",
       "      <td>0.972000</td>\n",
       "      <td>0.120000</td>\n",
       "      <td>3.052000</td>\n",
       "      <td>0.916000</td>\n",
       "      <td>0.061000</td>\n",
       "      <td>81.374000</td>\n",
       "      <td>3.505000</td>\n",
       "    </tr>\n",
       "    <tr>\n",
       "      <th>75%</th>\n",
       "      <td>0.096000</td>\n",
       "      <td>0.986000</td>\n",
       "      <td>0.160000</td>\n",
       "      <td>6.226000</td>\n",
       "      <td>3.906000</td>\n",
       "      <td>1.587000</td>\n",
       "      <td>85.271000</td>\n",
       "      <td>5.358000</td>\n",
       "    </tr>\n",
       "    <tr>\n",
       "      <th>max</th>\n",
       "      <td>0.190000</td>\n",
       "      <td>1.099000</td>\n",
       "      <td>0.258000</td>\n",
       "      <td>49.072000</td>\n",
       "      <td>23.743000</td>\n",
       "      <td>15.625000</td>\n",
       "      <td>88.890000</td>\n",
       "      <td>8.952000</td>\n",
       "    </tr>\n",
       "  </tbody>\n",
       "</table>\n",
       "</div>"
      ],
      "text/plain": [
       "               aX          aY          aZ          gX          gY          gZ  \\\n",
       "count  317.000000  317.000000  317.000000  317.000000  317.000000  317.000000   \n",
       "mean     0.059101    0.971871    0.116584    2.534394    1.095155    0.260148   \n",
       "std      0.048744    0.024222    0.062454    9.528398    6.849334    3.644320   \n",
       "min     -0.107000    0.875000   -0.183000  -39.978000  -17.944000  -10.925000   \n",
       "25%      0.022000    0.959000    0.070000   -1.587000   -2.075000   -1.953000   \n",
       "50%      0.056000    0.972000    0.120000    3.052000    0.916000    0.061000   \n",
       "75%      0.096000    0.986000    0.160000    6.226000    3.906000    1.587000   \n",
       "max      0.190000    1.099000    0.258000   49.072000   23.743000   15.625000   \n",
       "\n",
       "             Roll       Pitch  \n",
       "count  317.000000  317.000000  \n",
       "mean    82.118069    3.448524  \n",
       "std      3.571002    2.419999  \n",
       "min     74.499000   -1.638000  \n",
       "25%     79.322000    1.321000  \n",
       "50%     81.374000    3.505000  \n",
       "75%     85.271000    5.358000  \n",
       "max     88.890000    8.952000  "
      ]
     },
     "execution_count": 6,
     "metadata": {},
     "output_type": "execute_result"
    }
   ],
   "source": [
    "S.describe()"
   ]
  },
  {
   "cell_type": "code",
   "execution_count": 7,
   "metadata": {},
   "outputs": [
    {
     "data": {
      "text/html": [
       "<div>\n",
       "<style scoped>\n",
       "    .dataframe tbody tr th:only-of-type {\n",
       "        vertical-align: middle;\n",
       "    }\n",
       "\n",
       "    .dataframe tbody tr th {\n",
       "        vertical-align: top;\n",
       "    }\n",
       "\n",
       "    .dataframe thead th {\n",
       "        text-align: right;\n",
       "    }\n",
       "</style>\n",
       "<table border=\"1\" class=\"dataframe\">\n",
       "  <thead>\n",
       "    <tr style=\"text-align: right;\">\n",
       "      <th></th>\n",
       "      <th>aX</th>\n",
       "      <th>aY</th>\n",
       "      <th>aZ</th>\n",
       "      <th>gX</th>\n",
       "      <th>gY</th>\n",
       "      <th>gZ</th>\n",
       "      <th>Roll</th>\n",
       "      <th>Pitch</th>\n",
       "    </tr>\n",
       "  </thead>\n",
       "  <tbody>\n",
       "    <tr>\n",
       "      <th>count</th>\n",
       "      <td>455.000000</td>\n",
       "      <td>455.000000</td>\n",
       "      <td>455.000000</td>\n",
       "      <td>455.000000</td>\n",
       "      <td>455.000000</td>\n",
       "      <td>455.000000</td>\n",
       "      <td>455.000000</td>\n",
       "      <td>455.000000</td>\n",
       "    </tr>\n",
       "    <tr>\n",
       "      <th>mean</th>\n",
       "      <td>0.075020</td>\n",
       "      <td>0.973664</td>\n",
       "      <td>0.105244</td>\n",
       "      <td>2.573275</td>\n",
       "      <td>1.072352</td>\n",
       "      <td>0.138974</td>\n",
       "      <td>82.068859</td>\n",
       "      <td>4.346912</td>\n",
       "    </tr>\n",
       "    <tr>\n",
       "      <th>std</th>\n",
       "      <td>0.035892</td>\n",
       "      <td>0.015888</td>\n",
       "      <td>0.056732</td>\n",
       "      <td>5.812196</td>\n",
       "      <td>3.812636</td>\n",
       "      <td>1.707883</td>\n",
       "      <td>2.750445</td>\n",
       "      <td>1.855774</td>\n",
       "    </tr>\n",
       "    <tr>\n",
       "      <th>min</th>\n",
       "      <td>-0.036000</td>\n",
       "      <td>0.905000</td>\n",
       "      <td>-0.127000</td>\n",
       "      <td>-35.156000</td>\n",
       "      <td>-9.521000</td>\n",
       "      <td>-7.141000</td>\n",
       "      <td>76.410000</td>\n",
       "      <td>0.175000</td>\n",
       "    </tr>\n",
       "    <tr>\n",
       "      <th>25%</th>\n",
       "      <td>0.051000</td>\n",
       "      <td>0.966000</td>\n",
       "      <td>0.066000</td>\n",
       "      <td>0.000000</td>\n",
       "      <td>-1.038000</td>\n",
       "      <td>-0.793000</td>\n",
       "      <td>80.258000</td>\n",
       "      <td>3.026500</td>\n",
       "    </tr>\n",
       "    <tr>\n",
       "      <th>50%</th>\n",
       "      <td>0.075000</td>\n",
       "      <td>0.973000</td>\n",
       "      <td>0.105000</td>\n",
       "      <td>2.625000</td>\n",
       "      <td>0.732000</td>\n",
       "      <td>0.061000</td>\n",
       "      <td>81.688000</td>\n",
       "      <td>4.367000</td>\n",
       "    </tr>\n",
       "    <tr>\n",
       "      <th>75%</th>\n",
       "      <td>0.100000</td>\n",
       "      <td>0.981000</td>\n",
       "      <td>0.146000</td>\n",
       "      <td>4.944000</td>\n",
       "      <td>2.471500</td>\n",
       "      <td>1.038000</td>\n",
       "      <td>84.105000</td>\n",
       "      <td>5.669500</td>\n",
       "    </tr>\n",
       "    <tr>\n",
       "      <th>max</th>\n",
       "      <td>0.200000</td>\n",
       "      <td>1.079000</td>\n",
       "      <td>0.228000</td>\n",
       "      <td>30.579000</td>\n",
       "      <td>26.489000</td>\n",
       "      <td>5.981000</td>\n",
       "      <td>88.401000</td>\n",
       "      <td>8.592000</td>\n",
       "    </tr>\n",
       "  </tbody>\n",
       "</table>\n",
       "</div>"
      ],
      "text/plain": [
       "               aX          aY          aZ          gX          gY          gZ  \\\n",
       "count  455.000000  455.000000  455.000000  455.000000  455.000000  455.000000   \n",
       "mean     0.075020    0.973664    0.105244    2.573275    1.072352    0.138974   \n",
       "std      0.035892    0.015888    0.056732    5.812196    3.812636    1.707883   \n",
       "min     -0.036000    0.905000   -0.127000  -35.156000   -9.521000   -7.141000   \n",
       "25%      0.051000    0.966000    0.066000    0.000000   -1.038000   -0.793000   \n",
       "50%      0.075000    0.973000    0.105000    2.625000    0.732000    0.061000   \n",
       "75%      0.100000    0.981000    0.146000    4.944000    2.471500    1.038000   \n",
       "max      0.200000    1.079000    0.228000   30.579000   26.489000    5.981000   \n",
       "\n",
       "             Roll       Pitch  \n",
       "count  455.000000  455.000000  \n",
       "mean    82.068859    4.346912  \n",
       "std      2.750445    1.855774  \n",
       "min     76.410000    0.175000  \n",
       "25%     80.258000    3.026500  \n",
       "50%     81.688000    4.367000  \n",
       "75%     84.105000    5.669500  \n",
       "max     88.401000    8.592000  "
      ]
     },
     "execution_count": 7,
     "metadata": {},
     "output_type": "execute_result"
    }
   ],
   "source": [
    "S_FL.describe()"
   ]
  },
  {
   "cell_type": "code",
   "execution_count": 8,
   "metadata": {},
   "outputs": [
    {
     "data": {
      "text/html": [
       "<div>\n",
       "<style scoped>\n",
       "    .dataframe tbody tr th:only-of-type {\n",
       "        vertical-align: middle;\n",
       "    }\n",
       "\n",
       "    .dataframe tbody tr th {\n",
       "        vertical-align: top;\n",
       "    }\n",
       "\n",
       "    .dataframe thead th {\n",
       "        text-align: right;\n",
       "    }\n",
       "</style>\n",
       "<table border=\"1\" class=\"dataframe\">\n",
       "  <thead>\n",
       "    <tr style=\"text-align: right;\">\n",
       "      <th></th>\n",
       "      <th>aX</th>\n",
       "      <th>aY</th>\n",
       "      <th>aZ</th>\n",
       "      <th>gX</th>\n",
       "      <th>gY</th>\n",
       "      <th>gZ</th>\n",
       "      <th>Roll</th>\n",
       "      <th>Pitch</th>\n",
       "    </tr>\n",
       "  </thead>\n",
       "  <tbody>\n",
       "    <tr>\n",
       "      <th>count</th>\n",
       "      <td>286.000000</td>\n",
       "      <td>286.000000</td>\n",
       "      <td>286.000000</td>\n",
       "      <td>286.000000</td>\n",
       "      <td>286.000000</td>\n",
       "      <td>286.000000</td>\n",
       "      <td>286.00000</td>\n",
       "      <td>286.000000</td>\n",
       "    </tr>\n",
       "    <tr>\n",
       "      <th>mean</th>\n",
       "      <td>0.059615</td>\n",
       "      <td>0.946542</td>\n",
       "      <td>0.171864</td>\n",
       "      <td>7.231594</td>\n",
       "      <td>1.256976</td>\n",
       "      <td>0.327353</td>\n",
       "      <td>78.62479</td>\n",
       "      <td>3.496077</td>\n",
       "    </tr>\n",
       "    <tr>\n",
       "      <th>std</th>\n",
       "      <td>0.062625</td>\n",
       "      <td>0.144630</td>\n",
       "      <td>0.137943</td>\n",
       "      <td>71.618558</td>\n",
       "      <td>7.295984</td>\n",
       "      <td>5.847743</td>\n",
       "      <td>5.16838</td>\n",
       "      <td>3.103566</td>\n",
       "    </tr>\n",
       "    <tr>\n",
       "      <th>min</th>\n",
       "      <td>-0.150000</td>\n",
       "      <td>0.162000</td>\n",
       "      <td>-0.416000</td>\n",
       "      <td>-197.998000</td>\n",
       "      <td>-18.799000</td>\n",
       "      <td>-36.865000</td>\n",
       "      <td>63.60000</td>\n",
       "      <td>-3.806000</td>\n",
       "    </tr>\n",
       "    <tr>\n",
       "      <th>25%</th>\n",
       "      <td>0.009000</td>\n",
       "      <td>0.911750</td>\n",
       "      <td>0.097000</td>\n",
       "      <td>-11.398750</td>\n",
       "      <td>-3.387500</td>\n",
       "      <td>-1.815750</td>\n",
       "      <td>75.56650</td>\n",
       "      <td>0.592250</td>\n",
       "    </tr>\n",
       "    <tr>\n",
       "      <th>50%</th>\n",
       "      <td>0.059500</td>\n",
       "      <td>0.963000</td>\n",
       "      <td>0.159000</td>\n",
       "      <td>1.709000</td>\n",
       "      <td>0.610000</td>\n",
       "      <td>0.518500</td>\n",
       "      <td>79.20650</td>\n",
       "      <td>3.974000</td>\n",
       "    </tr>\n",
       "    <tr>\n",
       "      <th>75%</th>\n",
       "      <td>0.104000</td>\n",
       "      <td>0.995750</td>\n",
       "      <td>0.245000</td>\n",
       "      <td>19.393750</td>\n",
       "      <td>4.761000</td>\n",
       "      <td>2.319000</td>\n",
       "      <td>82.29350</td>\n",
       "      <td>6.101250</td>\n",
       "    </tr>\n",
       "    <tr>\n",
       "      <th>max</th>\n",
       "      <td>0.256000</td>\n",
       "      <td>1.665000</td>\n",
       "      <td>0.655000</td>\n",
       "      <td>545.959000</td>\n",
       "      <td>34.424000</td>\n",
       "      <td>41.931000</td>\n",
       "      <td>88.45800</td>\n",
       "      <td>10.361000</td>\n",
       "    </tr>\n",
       "  </tbody>\n",
       "</table>\n",
       "</div>"
      ],
      "text/plain": [
       "               aX          aY          aZ          gX          gY          gZ  \\\n",
       "count  286.000000  286.000000  286.000000  286.000000  286.000000  286.000000   \n",
       "mean     0.059615    0.946542    0.171864    7.231594    1.256976    0.327353   \n",
       "std      0.062625    0.144630    0.137943   71.618558    7.295984    5.847743   \n",
       "min     -0.150000    0.162000   -0.416000 -197.998000  -18.799000  -36.865000   \n",
       "25%      0.009000    0.911750    0.097000  -11.398750   -3.387500   -1.815750   \n",
       "50%      0.059500    0.963000    0.159000    1.709000    0.610000    0.518500   \n",
       "75%      0.104000    0.995750    0.245000   19.393750    4.761000    2.319000   \n",
       "max      0.256000    1.665000    0.655000  545.959000   34.424000   41.931000   \n",
       "\n",
       "            Roll       Pitch  \n",
       "count  286.00000  286.000000  \n",
       "mean    78.62479    3.496077  \n",
       "std      5.16838    3.103566  \n",
       "min     63.60000   -3.806000  \n",
       "25%     75.56650    0.592250  \n",
       "50%     79.20650    3.974000  \n",
       "75%     82.29350    6.101250  \n",
       "max     88.45800   10.361000  "
      ]
     },
     "execution_count": 8,
     "metadata": {},
     "output_type": "execute_result"
    }
   ],
   "source": [
    "S_FS.describe()"
   ]
  },
  {
   "cell_type": "markdown",
   "metadata": {},
   "source": [
    "<font size=\"4\">Low speed reduce acceleration in x-axis </font>"
   ]
  },
  {
   "cell_type": "code",
   "execution_count": 15,
   "metadata": {},
   "outputs": [
    {
     "data": {
      "image/png": "[encoded data removed]",
      "text/plain": [
       "<Figure size 432x288 with 1 Axes>"
      ]
     },
     "metadata": {
      "needs_background": "light"
     },
     "output_type": "display_data"
    }
   ],
   "source": [
    "plt.boxplot([S.aX, S_FL.aX])\n",
    "plt.xticks([1,2], ['Normal Speed', 'Low Speed'])\n",
    "plt.title('Speed based on Ax values in Straight Push')\n",
    "plt.show()"
   ]
  },
  {
   "cell_type": "markdown",
   "metadata": {},
   "source": [
    "<font size=\"4\"> Perpendicular checking will depend on acceleration in y-axis -> aY is far more less than 1 if not perpendicular </font>"
   ]
  },
  {
   "cell_type": "code",
   "execution_count": 17,
   "metadata": {},
   "outputs": [
    {
     "data": {
      "image/png": "[encoded data removed]",
      "text/plain": [
       "<Figure size 432x288 with 1 Axes>"
      ]
     },
     "metadata": {
      "needs_background": "light"
     },
     "output_type": "display_data"
    }
   ],
   "source": [
    "plt.boxplot([S.aY, S_FP.aY])\n",
    "plt.xticks([1,2], ['Correct Posture', 'Wrong Posture'])\n",
    "plt.title('Perpendicular based on aY in Straight Push')\n",
    "plt.show()"
   ]
  },
  {
   "cell_type": "markdown",
   "metadata": {},
   "source": [
    "<font size=\"4\"> Shake the wrist during the exercise will largely rotate gyroscope in x-axis </font>"
   ]
  },
  {
   "cell_type": "code",
   "execution_count": 16,
   "metadata": {},
   "outputs": [
    {
     "data": {
      "image/png": "[encoded data removed]",
      "text/plain": [
       "<Figure size 432x288 with 1 Axes>"
      ]
     },
     "metadata": {
      "needs_background": "light"
     },
     "output_type": "display_data"
    }
   ],
   "source": [
    "plt.boxplot([S.gX, S_FS.gX])\n",
    "plt.xticks([1,2], ['Normal', 'Shake'])\n",
    "plt.title('Shake based on Gx in Straight Push')\n",
    "plt.show()"
   ]
  },
  {
   "cell_type": "markdown",
   "metadata": {},
   "source": [
    "<font size=\"4\">Change table will affect accelerometer values compared with gyroscope values </font>"
   ]
  },
  {
   "cell_type": "code",
   "execution_count": 11,
   "metadata": {},
   "outputs": [
    {
     "data": {
      "image/png": "[encoded data removed]",
      "text/plain": [
       "<Figure size 432x288 with 1 Axes>"
      ]
     },
     "metadata": {
      "needs_background": "light"
     },
     "output_type": "display_data"
    }
   ],
   "source": [
    "plt.boxplot([S.aX, S.aY, S.aZ,S2.aX,S2.aY,S2.aZ])\n",
    "plt.xticks([1,2,3,4,5,6], ['S_Ax', 'S_Ay','S_Az','S2_Ax','S2_Ay','S2_Az'])\n",
    "plt.title('Different tables for accelerometer values in Straight Push exercises')\n",
    "plt.show()"
   ]
  },
  {
   "cell_type": "code",
   "execution_count": 12,
   "metadata": {},
   "outputs": [
    {
     "data": {
      "image/png": "[encoded data removed]",
      "text/plain": [
       "<Figure size 432x288 with 1 Axes>"
      ]
     },
     "metadata": {
      "needs_background": "light"
     },
     "output_type": "display_data"
    }
   ],
   "source": [
    "plt.boxplot([S.gX, S.gY, S.gZ,S2.gX,S2.gY,S2.gZ])\n",
    "plt.xticks([1,2,3,4,5,6], ['S_Gx', 'S_Gy','S_Gz','S2_Gx','S2_Gy','S2_Gz'])\n",
    "plt.title('Different tables for gyroscope values in Straight Push exercises')\n",
    "plt.show()"
   ]
  },
  {
   "cell_type": "markdown",
   "metadata": {},
   "source": [
    "<h1>Rotation Exercise:</h1>\n",
    "<font size=\"5\"> It's expected to change Gy. Check Gx For shakeness and Az for speed!!</font> <br>\n",
    "<font size=\"4\"> 1) Compare 3 failure cases with correct exercise</font> <br>\n",
    "<font size=\"4\"> 2) Compare this exercise in different tables</font> <br>"
   ]
  },
  {
   "cell_type": "code",
   "execution_count": 20,
   "metadata": {},
   "outputs": [],
   "source": [
    "R = pd.read_csv(\"Rotation.csv\");\n",
    "R_FL = pd.read_csv (\"Rotation_FL.csv\");\n",
    "R_FR = pd.read_csv(\"Rotation_FR.csv\");\n",
    "R_FS = pd.read_csv (\"Rotation_FS.csv\");\n",
    "R2 = pd.read_csv(\"Rotation2.csv\");"
   ]
  },
  {
   "cell_type": "code",
   "execution_count": 21,
   "metadata": {},
   "outputs": [],
   "source": [
    "nan = float(\"NaN\");\n",
    "R.replace(\"\",nan,inplace=True)\n",
    "R.dropna(subset = [\"gX\"], inplace=True)\n",
    "R_FL.replace(\"\",nan,inplace=True)\n",
    "R_FL.dropna(subset = [\"gX\"], inplace=True)\n",
    "R_FR.replace(\"\",nan,inplace=True)\n",
    "R_FR.dropna(subset = [\"gX\"], inplace=True)\n",
    "R_FS.replace(\"\",nan,inplace=True)\n",
    "R_FS.dropna(subset = [\"gX\"], inplace=True)\n",
    "R2.replace(\"\",nan,inplace=True)\n",
    "R2.dropna(subset = [\"gX\"], inplace=True)"
   ]
  },
  {
   "cell_type": "markdown",
   "metadata": {},
   "source": [
    "<font size=\"4\">Low speed reduce gyroscope in y-axis </font>"
   ]
  },
  {
   "cell_type": "code",
   "execution_count": 27,
   "metadata": {},
   "outputs": [
    {
     "data": {
      "image/png": "[encoded data removed]",
      "text/plain": [
       "<Figure size 432x288 with 1 Axes>"
      ]
     },
     "metadata": {
      "needs_background": "light"
     },
     "output_type": "display_data"
    }
   ],
   "source": [
    "plt.boxplot([R.gY, R_FL.gY])\n",
    "plt.xticks([1,2], ['Normal Speed', 'Low Speed'])\n",
    "plt.title('Speed based on gY values in Rotation')\n",
    "plt.show()"
   ]
  },
  {
   "cell_type": "markdown",
   "metadata": {},
   "source": [
    "<font size=\"4\">Less Rotation reduce gyroscope in y-axis -> alomst half </font>"
   ]
  },
  {
   "cell_type": "code",
   "execution_count": 28,
   "metadata": {},
   "outputs": [
    {
     "data": {
      "image/png": "[encoded data removed]",
      "text/plain": [
       "<Figure size 432x288 with 1 Axes>"
      ]
     },
     "metadata": {
      "needs_background": "light"
     },
     "output_type": "display_data"
    }
   ],
   "source": [
    "plt.boxplot([R.gY, R_FR.gY])\n",
    "plt.xticks([1,2], ['Rotate 90 degree', 'Rotate around 45 degree'])\n",
    "plt.title('Rotation based on gY values in Rotation')\n",
    "plt.show()"
   ]
  },
  {
   "cell_type": "markdown",
   "metadata": {},
   "source": [
    "<font size=\"4\">Shakeness will change gyroscope largely in x-axis </font>"
   ]
  },
  {
   "cell_type": "code",
   "execution_count": 33,
   "metadata": {},
   "outputs": [
    {
     "data": {
      "image/png": "[encoded data removed]",
      "text/plain": [
       "<Figure size 432x288 with 1 Axes>"
      ]
     },
     "metadata": {
      "needs_background": "light"
     },
     "output_type": "display_data"
    }
   ],
   "source": [
    "plt.boxplot([R.gX, R_FS.gX])\n",
    "plt.xticks([1,2], ['Normal', 'Shake'])\n",
    "plt.title('Shakeness based on gX values in Rotation')\n",
    "plt.show()"
   ]
  },
  {
   "cell_type": "markdown",
   "metadata": {},
   "source": [
    "<font size=\"4\">Similar to straight push, change tables will largely affect accelerometer values </font>"
   ]
  },
  {
   "cell_type": "code",
   "execution_count": 31,
   "metadata": {},
   "outputs": [
    {
     "data": {
      "image/png": "[encoded data removed]",
      "text/plain": [
       "<Figure size 432x288 with 1 Axes>"
      ]
     },
     "metadata": {
      "needs_background": "light"
     },
     "output_type": "display_data"
    }
   ],
   "source": [
    "plt.boxplot([R.aX, R.aY, R.aZ, R2.aX, R2.aY, R2.aZ])\n",
    "plt.xticks([1,2,3,4,5,6], ['R_Ax', 'R_Ay','R_Az','R2_Ax','R2_Ay','R2_Az'])\n",
    "plt.title('Different tables for accelerometer values in Rotation exercises')\n",
    "plt.show()"
   ]
  },
  {
   "cell_type": "code",
   "execution_count": 32,
   "metadata": {},
   "outputs": [
    {
     "data": {
      "image/png": "[encoded data removed]",
      "text/plain": [
       "<Figure size 432x288 with 1 Axes>"
      ]
     },
     "metadata": {
      "needs_background": "light"
     },
     "output_type": "display_data"
    }
   ],
   "source": [
    "plt.boxplot([R.gX, R.gY, R.gZ, R2.gX, R2.gY, R2.gZ])\n",
    "plt.xticks([1,2,3,4,5,6], ['R_Gx', 'R_Gy','R_Gz','R2_Gx','R2_Gy','R2_Gz'])\n",
    "plt.title('Different tables for gyroscope values in Rotation exercises')\n",
    "plt.show()"
   ]
  },
  {
   "cell_type": "code",
   "execution_count": 4,
   "metadata": {},
   "outputs": [],
   "source": [
    "Armc = pd.read_csv('ARMSWING.csv')\n",
    "Bicep = pd.read_csv('BICEPLIFT.csv')\n",
    "Armn = pd.read_csv('Swing_FN.csv')\n",
    "Bicepfp= pd.read_csv('Bicep_FP.csv')"
   ]
  },
  {
   "cell_type": "code",
   "execution_count": 5,
   "metadata": {},
   "outputs": [],
   "source": [
    "nan = float(\"NaN\");\n",
    "Armc.replace(\"\",nan,inplace=True)\n",
    "Armc.dropna(subset = [\"gX\"], inplace=True)\n",
    "Bicep.replace(\"\",nan,inplace=True)\n",
    "Bicep.dropna(subset = [\"gX\"], inplace=True)\n",
    "Armn.replace(\"\",nan,inplace=True)\n",
    "Armn.dropna(subset = [\"gX\"], inplace=True)\n",
    "Bicepfp.replace(\"\",nan,inplace=True)\n",
    "Bicepfp.dropna(subset = [\"gX\"], inplace=True)"
   ]
  },
  {
   "cell_type": "code",
   "execution_count": 15,
   "metadata": {},
   "outputs": [
    {
     "data": {
      "image/png": "[encoded data removed]",
      "text/plain": [
       "<Figure size 432x288 with 1 Axes>"
      ]
     },
     "metadata": {
      "needs_background": "light"
     },
     "output_type": "display_data"
    }
   ],
   "source": [
    "plt.boxplot([Armc.Roll, Armn.Roll])\n",
    "plt.xticks([1,2], ['Correct', 'Less than 60 degree'])\n",
    "plt.title('Roll angle in Arm Swing')\n",
    "plt.show()"
   ]
  },
  {
   "cell_type": "code",
   "execution_count": 13,
   "metadata": {},
   "outputs": [
    {
     "data": {
      "image/png": "[encoded data removed]",
      "text/plain": [
       "<Figure size 432x288 with 1 Axes>"
      ]
     },
     "metadata": {
      "needs_background": "light"
     },
     "output_type": "display_data"
    }
   ],
   "source": [
    "plt.boxplot([Bicep.Pitch, Bicepfp.Pitch])\n",
    "plt.xticks([1,2], ['Correct', 'Rotate half cycle'])\n",
    "plt.title('Pitch angle in Bicep')\n",
    "plt.show()"
   ]
  },
  {
   "cell_type": "code",
   "execution_count": null,
   "metadata": {},
   "outputs": [],
   "source": []
  }
 ],
 "metadata": {
  "kernelspec": {
   "display_name": "Python 3",
   "language": "python",
   "name": "python3"
  },
  "language_info": {
   "codemirror_mode": {
    "name": "ipython",
    "version": 3
   },
   "file_extension": ".py",
   "mimetype": "text/x-python",
   "name": "python",
   "nbconvert_exporter": "python",
   "pygments_lexer": "ipython3",
   "version": "3.8.3"
  }
 },
 "nbformat": 4,
 "nbformat_minor": 4
}
