{
 "cells": [
  {
   "cell_type": "code",
   "execution_count": 2,
   "metadata": {},
   "outputs": [],
   "source": [
    "import pandas as pd\n",
    "#import seaborn as sns\n",
    "#import numpy as np\n",
    "import matplotlib.pyplot as plt"
   ]
  },
  {
   "cell_type": "code",
   "execution_count": 3,
   "metadata": {},
   "outputs": [],
   "source": [
    "df_all = pd.read_csv('C:/Users/Chatchanan/Downloads/SWING_All.csv')\n",
    "df1 = pd.read_csv('C:/Users/Chatchanan/Downloads/SWING_Irfan.csv')\n",
    "df2 = pd.read_csv('C:/Users/Chatchanan/Downloads/SWING_Alan.csv')\n",
    "df3 = pd.read_csv('C:/Users/Chatchanan/Downloads/SWING_Tae.csv')"
   ]
  },
  {
   "cell_type": "code",
   "execution_count": 4,
   "metadata": {},
   "outputs": [
    {
     "data": {
      "text/html": [
       "<div>\n",
       "<style scoped>\n",
       "    .dataframe tbody tr th:only-of-type {\n",
       "        vertical-align: middle;\n",
       "    }\n",
       "\n",
       "    .dataframe tbody tr th {\n",
       "        vertical-align: top;\n",
       "    }\n",
       "\n",
       "    .dataframe thead th {\n",
       "        text-align: right;\n",
       "    }\n",
       "</style>\n",
       "<table border=\"1\" class=\"dataframe\">\n",
       "  <thead>\n",
       "    <tr style=\"text-align: right;\">\n",
       "      <th></th>\n",
       "      <th>aX</th>\n",
       "      <th>aY</th>\n",
       "      <th>aZ</th>\n",
       "      <th>gX</th>\n",
       "      <th>gY</th>\n",
       "      <th>gZ</th>\n",
       "      <th>Roll</th>\n",
       "      <th>Pitch</th>\n",
       "    </tr>\n",
       "  </thead>\n",
       "  <tbody>\n",
       "    <tr>\n",
       "      <th>0</th>\n",
       "      <td>0.571</td>\n",
       "      <td>0.483</td>\n",
       "      <td>-0.659</td>\n",
       "      <td>6.592</td>\n",
       "      <td>-8.179</td>\n",
       "      <td>1.160</td>\n",
       "      <td>28.973</td>\n",
       "      <td>34.962</td>\n",
       "    </tr>\n",
       "    <tr>\n",
       "      <th>1</th>\n",
       "      <td>0.629</td>\n",
       "      <td>0.430</td>\n",
       "      <td>-0.802</td>\n",
       "      <td>-26.733</td>\n",
       "      <td>25.635</td>\n",
       "      <td>6.042</td>\n",
       "      <td>25.781</td>\n",
       "      <td>34.871</td>\n",
       "    </tr>\n",
       "    <tr>\n",
       "      <th>2</th>\n",
       "      <td>0.549</td>\n",
       "      <td>0.401</td>\n",
       "      <td>-0.696</td>\n",
       "      <td>28.137</td>\n",
       "      <td>5.188</td>\n",
       "      <td>7.202</td>\n",
       "      <td>25.324</td>\n",
       "      <td>34.713</td>\n",
       "    </tr>\n",
       "    <tr>\n",
       "      <th>3</th>\n",
       "      <td>0.577</td>\n",
       "      <td>0.409</td>\n",
       "      <td>-0.688</td>\n",
       "      <td>-5.615</td>\n",
       "      <td>-2.625</td>\n",
       "      <td>1.465</td>\n",
       "      <td>25.128</td>\n",
       "      <td>34.976</td>\n",
       "    </tr>\n",
       "    <tr>\n",
       "      <th>4</th>\n",
       "      <td>0.511</td>\n",
       "      <td>0.750</td>\n",
       "      <td>-0.607</td>\n",
       "      <td>10.132</td>\n",
       "      <td>-0.610</td>\n",
       "      <td>2.258</td>\n",
       "      <td>28.962</td>\n",
       "      <td>33.470</td>\n",
       "    </tr>\n",
       "  </tbody>\n",
       "</table>\n",
       "</div>"
      ],
      "text/plain": [
       "      aX     aY     aZ      gX      gY     gZ    Roll   Pitch\n",
       "0  0.571  0.483 -0.659   6.592  -8.179  1.160  28.973  34.962\n",
       "1  0.629  0.430 -0.802 -26.733  25.635  6.042  25.781  34.871\n",
       "2  0.549  0.401 -0.696  28.137   5.188  7.202  25.324  34.713\n",
       "3  0.577  0.409 -0.688  -5.615  -2.625  1.465  25.128  34.976\n",
       "4  0.511  0.750 -0.607  10.132  -0.610  2.258  28.962  33.470"
      ]
     },
     "execution_count": 4,
     "metadata": {},
     "output_type": "execute_result"
    }
   ],
   "source": [
    "#delete all empty rows in dataset\n",
    "df_all.dropna(subset = [\"aX\"],inplace=True)\n",
    "df1.dropna(subset = [\"aX\"],inplace=True)\n",
    "df2.dropna(subset = [\"aX\"],inplace=True)\n",
    "df3.dropna(subset = [\"aX\"],inplace=True)\n",
    "\n",
    "#display dataset header (top-5 rows)\n",
    "df_all.head()"
   ]
  },
  {
   "cell_type": "code",
   "execution_count": 5,
   "metadata": {},
   "outputs": [
    {
     "data": {
      "text/html": [
       "<div>\n",
       "<style scoped>\n",
       "    .dataframe tbody tr th:only-of-type {\n",
       "        vertical-align: middle;\n",
       "    }\n",
       "\n",
       "    .dataframe tbody tr th {\n",
       "        vertical-align: top;\n",
       "    }\n",
       "\n",
       "    .dataframe thead th {\n",
       "        text-align: right;\n",
       "    }\n",
       "</style>\n",
       "<table border=\"1\" class=\"dataframe\">\n",
       "  <thead>\n",
       "    <tr style=\"text-align: right;\">\n",
       "      <th></th>\n",
       "      <th>aX</th>\n",
       "      <th>aY</th>\n",
       "      <th>aZ</th>\n",
       "      <th>gX</th>\n",
       "      <th>gY</th>\n",
       "      <th>gZ</th>\n",
       "      <th>Roll</th>\n",
       "      <th>Pitch</th>\n",
       "    </tr>\n",
       "  </thead>\n",
       "  <tbody>\n",
       "    <tr>\n",
       "      <th>count</th>\n",
       "      <td>1253.000000</td>\n",
       "      <td>1253.000000</td>\n",
       "      <td>1253.000000</td>\n",
       "      <td>1253.000000</td>\n",
       "      <td>1253.000000</td>\n",
       "      <td>1253.000000</td>\n",
       "      <td>1253.000000</td>\n",
       "      <td>1253.000000</td>\n",
       "    </tr>\n",
       "    <tr>\n",
       "      <th>mean</th>\n",
       "      <td>-0.126283</td>\n",
       "      <td>0.615230</td>\n",
       "      <td>0.135658</td>\n",
       "      <td>3.049524</td>\n",
       "      <td>0.961839</td>\n",
       "      <td>-0.570306</td>\n",
       "      <td>40.993418</td>\n",
       "      <td>-10.785474</td>\n",
       "    </tr>\n",
       "    <tr>\n",
       "      <th>std</th>\n",
       "      <td>0.548974</td>\n",
       "      <td>0.237695</td>\n",
       "      <td>0.463658</td>\n",
       "      <td>42.359946</td>\n",
       "      <td>57.437467</td>\n",
       "      <td>32.328549</td>\n",
       "      <td>16.344520</td>\n",
       "      <td>35.762577</td>\n",
       "    </tr>\n",
       "    <tr>\n",
       "      <th>min</th>\n",
       "      <td>-1.037000</td>\n",
       "      <td>-0.200000</td>\n",
       "      <td>-0.976000</td>\n",
       "      <td>-160.645000</td>\n",
       "      <td>-156.372000</td>\n",
       "      <td>-91.919000</td>\n",
       "      <td>-6.135000</td>\n",
       "      <td>-74.429000</td>\n",
       "    </tr>\n",
       "    <tr>\n",
       "      <th>25%</th>\n",
       "      <td>-0.649000</td>\n",
       "      <td>0.456000</td>\n",
       "      <td>-0.046000</td>\n",
       "      <td>-11.658000</td>\n",
       "      <td>-27.527000</td>\n",
       "      <td>-17.883000</td>\n",
       "      <td>28.317000</td>\n",
       "      <td>-44.806000</td>\n",
       "    </tr>\n",
       "    <tr>\n",
       "      <th>50%</th>\n",
       "      <td>-0.176000</td>\n",
       "      <td>0.615000</td>\n",
       "      <td>0.301000</td>\n",
       "      <td>1.526000</td>\n",
       "      <td>0.549000</td>\n",
       "      <td>0.061000</td>\n",
       "      <td>40.410000</td>\n",
       "      <td>-11.096000</td>\n",
       "    </tr>\n",
       "    <tr>\n",
       "      <th>75%</th>\n",
       "      <td>0.396000</td>\n",
       "      <td>0.802000</td>\n",
       "      <td>0.472000</td>\n",
       "      <td>18.188000</td>\n",
       "      <td>35.095000</td>\n",
       "      <td>10.803000</td>\n",
       "      <td>55.663000</td>\n",
       "      <td>22.577000</td>\n",
       "    </tr>\n",
       "    <tr>\n",
       "      <th>max</th>\n",
       "      <td>0.773000</td>\n",
       "      <td>1.420000</td>\n",
       "      <td>0.913000</td>\n",
       "      <td>165.894000</td>\n",
       "      <td>134.705000</td>\n",
       "      <td>119.263000</td>\n",
       "      <td>72.535000</td>\n",
       "      <td>44.524000</td>\n",
       "    </tr>\n",
       "  </tbody>\n",
       "</table>\n",
       "</div>"
      ],
      "text/plain": [
       "                aX           aY           aZ           gX           gY  \\\n",
       "count  1253.000000  1253.000000  1253.000000  1253.000000  1253.000000   \n",
       "mean     -0.126283     0.615230     0.135658     3.049524     0.961839   \n",
       "std       0.548974     0.237695     0.463658    42.359946    57.437467   \n",
       "min      -1.037000    -0.200000    -0.976000  -160.645000  -156.372000   \n",
       "25%      -0.649000     0.456000    -0.046000   -11.658000   -27.527000   \n",
       "50%      -0.176000     0.615000     0.301000     1.526000     0.549000   \n",
       "75%       0.396000     0.802000     0.472000    18.188000    35.095000   \n",
       "max       0.773000     1.420000     0.913000   165.894000   134.705000   \n",
       "\n",
       "                gZ         Roll        Pitch  \n",
       "count  1253.000000  1253.000000  1253.000000  \n",
       "mean     -0.570306    40.993418   -10.785474  \n",
       "std      32.328549    16.344520    35.762577  \n",
       "min     -91.919000    -6.135000   -74.429000  \n",
       "25%     -17.883000    28.317000   -44.806000  \n",
       "50%       0.061000    40.410000   -11.096000  \n",
       "75%      10.803000    55.663000    22.577000  \n",
       "max     119.263000    72.535000    44.524000  "
      ]
     },
     "execution_count": 5,
     "metadata": {},
     "output_type": "execute_result"
    }
   ],
   "source": [
    "df_all.describe()"
   ]
  },
  {
   "cell_type": "code",
   "execution_count": 23,
   "metadata": {},
   "outputs": [
    {
     "data": {
      "image/png": "[encoded data removed]",
      "text/plain": [
       "<matplotlib.figure.Figure at 0x21fcbc63ef0>"
      ]
     },
     "metadata": {},
     "output_type": "display_data"
    }
   ],
   "source": [
    "plt.boxplot([df1.aX, df1.aY, df1.aZ, df1.gX, df1.gY, df1.gZ, df1.Roll, df1.Pitch])\n",
    "plt.xticks([1, 2, 3, 4, 5, 6, 7, 8], ['aX', 'aY', 'aZ', 'gX', 'gY', 'gZ', 'Roll', 'Pitch'])\n",
    "plt.show()"
   ]
  },
  {
   "cell_type": "code",
   "execution_count": 7,
   "metadata": {},
   "outputs": [
    {
     "data": {
      "image/png": "[encoded data removed]",
      "text/plain": [
       "<matplotlib.figure.Figure at 0x21fcba00cc0>"
      ]
     },
     "metadata": {},
     "output_type": "display_data"
    }
   ],
   "source": [
    "plt.boxplot([df2.aX, df2.aY, df2.aZ, df2.gX, df2.gY, df2.gZ, df2.Roll, df2.Pitch])\n",
    "plt.xticks([1, 2, 3, 4, 5, 6, 7, 8], ['aX', 'aY', 'aZ', 'gX', 'gY', 'gZ', 'Roll', 'Pitch'])\n",
    "plt.show()"
   ]
  },
  {
   "cell_type": "code",
   "execution_count": 8,
   "metadata": {},
   "outputs": [
    {
     "data": {
      "image/png": "[encoded data removed]",
      "text/plain": [
       "<matplotlib.figure.Figure at 0x21fcb65b668>"
      ]
     },
     "metadata": {},
     "output_type": "display_data"
    }
   ],
   "source": [
    "plt.boxplot([df3.aX, df3.aY, df3.aZ, df3.gX, df3.gY, df3.gZ, df3.Roll, df3.Pitch])\n",
    "plt.xticks([1, 2, 3, 4, 5, 6, 7, 8], ['aX', 'aY', 'aZ', 'gX', 'gY', 'gZ', 'Roll', 'Pitch'])\n",
    "plt.show()"
   ]
  },
  {
   "cell_type": "code",
   "execution_count": 9,
   "metadata": {},
   "outputs": [
    {
     "data": {
      "text/plain": [
       "<matplotlib.axes._subplots.AxesSubplot at 0x21fcb65cd30>"
      ]
     },
     "execution_count": 9,
     "metadata": {},
     "output_type": "execute_result"
    },
    {
     "data": {
      "image/png": "[encoded data removed]",
      "text/plain": [
       "<matplotlib.figure.Figure at 0x21fcb65c978>"
      ]
     },
     "metadata": {},
     "output_type": "display_data"
    }
   ],
   "source": [
    "df_all.Pitch.hist()"
   ]
  },
  {
   "cell_type": "code",
   "execution_count": 19,
   "metadata": {},
   "outputs": [
    {
     "data": {
      "image/png": "[encoded data removed]",
      "text/plain": [
       "<matplotlib.figure.Figure at 0x21fccf6cda0>"
      ]
     },
     "metadata": {},
     "output_type": "display_data"
    }
   ],
   "source": [
    "#Accelerometer Irfan\n",
    "plt.boxplot([df1.aX, df1.aY, df1.aZ,])\n",
    "plt.xticks([1, 2, 3], ['aX', 'aY', 'aZ'])\n",
    "plt.show()"
   ]
  },
  {
   "cell_type": "code",
   "execution_count": 20,
   "metadata": {},
   "outputs": [
    {
     "data": {
      "image/png": "[encoded data removed]",
      "text/plain": [
       "<matplotlib.figure.Figure at 0x21fccffdbe0>"
      ]
     },
     "metadata": {},
     "output_type": "display_data"
    }
   ],
   "source": [
    "#Accelerometer Alan\n",
    "plt.boxplot([df2.aX, df2.aY, df2.aZ,])\n",
    "plt.xticks([1, 2, 3], ['aX', 'aY', 'aZ'])\n",
    "plt.show()"
   ]
  },
  {
   "cell_type": "code",
   "execution_count": 21,
   "metadata": {},
   "outputs": [
    {
     "data": {
      "image/png": "[encoded data removed]",
      "text/plain": [
       "<matplotlib.figure.Figure at 0x21fccf5cfd0>"
      ]
     },
     "metadata": {},
     "output_type": "display_data"
    }
   ],
   "source": [
    "#Accelerometer Tae\n",
    "plt.boxplot([df3.aX, df3.aY, df3.aZ,])\n",
    "plt.xticks([1, 2, 3], ['aX', 'aY', 'aZ'])\n",
    "plt.show()"
   ]
  },
  {
   "cell_type": "code",
   "execution_count": 29,
   "metadata": {},
   "outputs": [
    {
     "name": "stderr",
     "output_type": "stream",
     "text": [
      "D:\\Anaconda3\\lib\\site-packages\\numpy\\core\\fromnumeric.py:52: FutureWarning: reshape is deprecated and will raise in a subsequent release. Please use .values.reshape(...) instead\n",
      "  return getattr(obj, method)(*args, **kwds)\n"
     ]
    },
    {
     "data": {
      "image/png": "[encoded data removed]",
      "text/plain": [
       "<matplotlib.figure.Figure at 0x21fccec5e48>"
      ]
     },
     "metadata": {},
     "output_type": "display_data"
    }
   ],
   "source": [
    "plt.boxplot([df1.aX, df2.aX, df3.aX,])\n",
    "plt.show()"
   ]
  },
  {
   "cell_type": "code",
   "execution_count": 30,
   "metadata": {},
   "outputs": [
    {
     "name": "stderr",
     "output_type": "stream",
     "text": [
      "D:\\Anaconda3\\lib\\site-packages\\numpy\\core\\fromnumeric.py:52: FutureWarning: reshape is deprecated and will raise in a subsequent release. Please use .values.reshape(...) instead\n",
      "  return getattr(obj, method)(*args, **kwds)\n"
     ]
    },
    {
     "data": {
      "image/png": "[encoded data removed]",
      "text/plain": [
       "<matplotlib.figure.Figure at 0x21fcce193c8>"
      ]
     },
     "metadata": {},
     "output_type": "display_data"
    }
   ],
   "source": [
    "plt.boxplot([df1.aY, df2.aY, df3.aY])\n",
    "plt.show()"
   ]
  },
  {
   "cell_type": "code",
   "execution_count": 31,
   "metadata": {},
   "outputs": [
    {
     "name": "stderr",
     "output_type": "stream",
     "text": [
      "D:\\Anaconda3\\lib\\site-packages\\numpy\\core\\fromnumeric.py:52: FutureWarning: reshape is deprecated and will raise in a subsequent release. Please use .values.reshape(...) instead\n",
      "  return getattr(obj, method)(*args, **kwds)\n"
     ]
    },
    {
     "data": {
      "image/png": "[encoded data removed]",
      "text/plain": [
       "<matplotlib.figure.Figure at 0x21fcd0cefd0>"
      ]
     },
     "metadata": {},
     "output_type": "display_data"
    }
   ],
   "source": [
    "plt.boxplot([df1.aZ, df2.aZ, df3.aZ])\n",
    "plt.show()"
   ]
  },
  {
   "cell_type": "code",
   "execution_count": null,
   "metadata": {},
   "outputs": [],
   "source": []
  }
 ],
 "metadata": {
  "kernelspec": {
   "display_name": "Python 3",
   "language": "python",
   "name": "python3"
  },
  "language_info": {
   "codemirror_mode": {
    "name": "ipython",
    "version": 3
   },
   "file_extension": ".py",
   "mimetype": "text/x-python",
   "name": "python",
   "nbconvert_exporter": "python",
   "pygments_lexer": "ipython3",
   "version": "3.8.3"
  }
 },
 "nbformat": 4,
 "nbformat_minor": 4
}
