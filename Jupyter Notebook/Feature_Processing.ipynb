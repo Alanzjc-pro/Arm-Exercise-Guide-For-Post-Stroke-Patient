{
 "cells": [
  {
   "cell_type": "markdown",
   "metadata": {},
   "source": [
    "<font size=\"5\"> Feature Preprocessing for ML inputs </font>\n",
    "* Converted object variable (Exercise) to integer label(eg. 0 -> Bicep) so that model can process\n",
    "* Draw heatmap for correlation matrix. Then filter out features where correlation coefficients are larger than 0.985\n",
    "* Feature scaling (x-u)/std on features (ML inputs)\n",
    "* Split datasets randomly into 70% for training and 30% for testing (random_state = 42, make sure all of us can get same result)\n",
    "* Compared the performance <br>\n",
    "  1) Trade-off between feature reduction and accuracy)<br>\n",
    "  2) The effect of feature scaling for machine learning model )<br>"
   ]
  },
  {
   "cell_type": "code",
   "execution_count": 48,
   "metadata": {},
   "outputs": [],
   "source": [
    "import pandas as pd\n",
    "import numpy as np\n",
    "import seaborn as sns\n",
    "import matplotlib.pyplot as plt\n",
    "%matplotlib inline"
   ]
  },
  {
   "cell_type": "code",
   "execution_count": 60,
   "metadata": {},
   "outputs": [],
   "source": [
    "features = pd.read_csv(\"feature.csv\")"
   ]
  },
  {
   "cell_type": "code",
   "execution_count": 61,
   "metadata": {},
   "outputs": [
    {
     "data": {
      "text/html": [
       "<div>\n",
       "<style scoped>\n",
       "    .dataframe tbody tr th:only-of-type {\n",
       "        vertical-align: middle;\n",
       "    }\n",
       "\n",
       "    .dataframe tbody tr th {\n",
       "        vertical-align: top;\n",
       "    }\n",
       "\n",
       "    .dataframe thead th {\n",
       "        text-align: right;\n",
       "    }\n",
       "</style>\n",
       "<table border=\"1\" class=\"dataframe\">\n",
       "  <thead>\n",
       "    <tr style=\"text-align: right;\">\n",
       "      <th></th>\n",
       "      <th>Exercise</th>\n",
       "      <th>Ax_Min</th>\n",
       "      <th>Ax_Max</th>\n",
       "      <th>Ax_Mean</th>\n",
       "      <th>Ax_std</th>\n",
       "      <th>Ax_med</th>\n",
       "      <th>Ay_Min</th>\n",
       "      <th>Ay_Max</th>\n",
       "      <th>Ay_Mean</th>\n",
       "      <th>Ay_std</th>\n",
       "      <th>...</th>\n",
       "      <th>Pitch_Min</th>\n",
       "      <th>Pitch_Max</th>\n",
       "      <th>Pitch_Mean</th>\n",
       "      <th>Pitch_std</th>\n",
       "      <th>Pitch_med</th>\n",
       "      <th>Roll_Min</th>\n",
       "      <th>Roll_Max</th>\n",
       "      <th>Roll_Mean</th>\n",
       "      <th>Roll_std</th>\n",
       "      <th>Roll_med</th>\n",
       "    </tr>\n",
       "  </thead>\n",
       "  <tbody>\n",
       "    <tr>\n",
       "      <th>0</th>\n",
       "      <td>Bicep_FL</td>\n",
       "      <td>-1.022</td>\n",
       "      <td>0.996</td>\n",
       "      <td>-0.136052</td>\n",
       "      <td>0.800313</td>\n",
       "      <td>-0.2500</td>\n",
       "      <td>-0.236</td>\n",
       "      <td>0.139</td>\n",
       "      <td>-0.035155</td>\n",
       "      <td>0.097225</td>\n",
       "      <td>...</td>\n",
       "      <td>-88.878</td>\n",
       "      <td>69.663</td>\n",
       "      <td>-15.457093</td>\n",
       "      <td>60.857454</td>\n",
       "      <td>-17.2880</td>\n",
       "      <td>-10.517</td>\n",
       "      <td>6.229</td>\n",
       "      <td>-1.979258</td>\n",
       "      <td>5.175042</td>\n",
       "      <td>-4.0740</td>\n",
       "    </tr>\n",
       "    <tr>\n",
       "      <th>1</th>\n",
       "      <td>Bicep_FL</td>\n",
       "      <td>-0.988</td>\n",
       "      <td>0.990</td>\n",
       "      <td>-0.191798</td>\n",
       "      <td>0.816737</td>\n",
       "      <td>-0.5710</td>\n",
       "      <td>-0.316</td>\n",
       "      <td>0.186</td>\n",
       "      <td>0.003697</td>\n",
       "      <td>0.134753</td>\n",
       "      <td>...</td>\n",
       "      <td>-83.749</td>\n",
       "      <td>72.856</td>\n",
       "      <td>-18.840121</td>\n",
       "      <td>62.050697</td>\n",
       "      <td>-39.0350</td>\n",
       "      <td>-15.704</td>\n",
       "      <td>9.220</td>\n",
       "      <td>0.299101</td>\n",
       "      <td>7.527709</td>\n",
       "      <td>4.8900</td>\n",
       "    </tr>\n",
       "    <tr>\n",
       "      <th>2</th>\n",
       "      <td>Bicep_FL</td>\n",
       "      <td>-1.006</td>\n",
       "      <td>0.981</td>\n",
       "      <td>-0.237722</td>\n",
       "      <td>0.772612</td>\n",
       "      <td>-0.5990</td>\n",
       "      <td>-0.162</td>\n",
       "      <td>0.165</td>\n",
       "      <td>0.040381</td>\n",
       "      <td>0.090307</td>\n",
       "      <td>...</td>\n",
       "      <td>-84.501</td>\n",
       "      <td>72.158</td>\n",
       "      <td>-21.689515</td>\n",
       "      <td>58.772669</td>\n",
       "      <td>-36.2670</td>\n",
       "      <td>-7.249</td>\n",
       "      <td>8.462</td>\n",
       "      <td>2.437165</td>\n",
       "      <td>4.993753</td>\n",
       "      <td>4.7070</td>\n",
       "    </tr>\n",
       "    <tr>\n",
       "      <th>3</th>\n",
       "      <td>Bicep_FL</td>\n",
       "      <td>-1.002</td>\n",
       "      <td>0.980</td>\n",
       "      <td>-0.284485</td>\n",
       "      <td>0.767278</td>\n",
       "      <td>-0.6780</td>\n",
       "      <td>-0.206</td>\n",
       "      <td>0.166</td>\n",
       "      <td>0.015414</td>\n",
       "      <td>0.061367</td>\n",
       "      <td>...</td>\n",
       "      <td>-87.935</td>\n",
       "      <td>70.351</td>\n",
       "      <td>-25.262242</td>\n",
       "      <td>58.227146</td>\n",
       "      <td>-40.7500</td>\n",
       "      <td>-7.172</td>\n",
       "      <td>5.952</td>\n",
       "      <td>0.917758</td>\n",
       "      <td>3.104093</td>\n",
       "      <td>1.3100</td>\n",
       "    </tr>\n",
       "    <tr>\n",
       "      <th>4</th>\n",
       "      <td>Bicep_FL</td>\n",
       "      <td>-1.009</td>\n",
       "      <td>0.976</td>\n",
       "      <td>-0.251888</td>\n",
       "      <td>0.781054</td>\n",
       "      <td>-0.6275</td>\n",
       "      <td>-0.349</td>\n",
       "      <td>0.193</td>\n",
       "      <td>0.031765</td>\n",
       "      <td>0.086389</td>\n",
       "      <td>...</td>\n",
       "      <td>-86.786</td>\n",
       "      <td>71.038</td>\n",
       "      <td>-22.797663</td>\n",
       "      <td>58.953704</td>\n",
       "      <td>-38.6125</td>\n",
       "      <td>-8.912</td>\n",
       "      <td>8.335</td>\n",
       "      <td>1.906112</td>\n",
       "      <td>4.366867</td>\n",
       "      <td>3.2655</td>\n",
       "    </tr>\n",
       "  </tbody>\n",
       "</table>\n",
       "<p>5 rows × 41 columns</p>\n",
       "</div>"
      ],
      "text/plain": [
       "   Exercise  Ax_Min  Ax_Max   Ax_Mean    Ax_std  Ax_med  Ay_Min  Ay_Max  \\\n",
       "0  Bicep_FL  -1.022   0.996 -0.136052  0.800313 -0.2500  -0.236   0.139   \n",
       "1  Bicep_FL  -0.988   0.990 -0.191798  0.816737 -0.5710  -0.316   0.186   \n",
       "2  Bicep_FL  -1.006   0.981 -0.237722  0.772612 -0.5990  -0.162   0.165   \n",
       "3  Bicep_FL  -1.002   0.980 -0.284485  0.767278 -0.6780  -0.206   0.166   \n",
       "4  Bicep_FL  -1.009   0.976 -0.251888  0.781054 -0.6275  -0.349   0.193   \n",
       "\n",
       "    Ay_Mean    Ay_std  ...  Pitch_Min  Pitch_Max  Pitch_Mean  Pitch_std  \\\n",
       "0 -0.035155  0.097225  ...    -88.878     69.663  -15.457093  60.857454   \n",
       "1  0.003697  0.134753  ...    -83.749     72.856  -18.840121  62.050697   \n",
       "2  0.040381  0.090307  ...    -84.501     72.158  -21.689515  58.772669   \n",
       "3  0.015414  0.061367  ...    -87.935     70.351  -25.262242  58.227146   \n",
       "4  0.031765  0.086389  ...    -86.786     71.038  -22.797663  58.953704   \n",
       "\n",
       "   Pitch_med  Roll_Min  Roll_Max  Roll_Mean  Roll_std  Roll_med  \n",
       "0   -17.2880   -10.517     6.229  -1.979258  5.175042   -4.0740  \n",
       "1   -39.0350   -15.704     9.220   0.299101  7.527709    4.8900  \n",
       "2   -36.2670    -7.249     8.462   2.437165  4.993753    4.7070  \n",
       "3   -40.7500    -7.172     5.952   0.917758  3.104093    1.3100  \n",
       "4   -38.6125    -8.912     8.335   1.906112  4.366867    3.2655  \n",
       "\n",
       "[5 rows x 41 columns]"
      ]
     },
     "execution_count": 61,
     "metadata": {},
     "output_type": "execute_result"
    }
   ],
   "source": [
    "features.head()"
   ]
  },
  {
   "cell_type": "code",
   "execution_count": 62,
   "metadata": {},
   "outputs": [],
   "source": [
    "Input = features.drop('Exercise',axis = 1)\n",
    "Output = features['Exercise']"
   ]
  },
  {
   "cell_type": "code",
   "execution_count": 63,
   "metadata": {},
   "outputs": [
    {
     "name": "stdout",
     "output_type": "stream",
     "text": [
      "<class 'pandas.core.frame.DataFrame'>\n",
      "RangeIndex: 641 entries, 0 to 640\n",
      "Data columns (total 40 columns):\n",
      " #   Column      Non-Null Count  Dtype  \n",
      "---  ------      --------------  -----  \n",
      " 0   Ax_Min      641 non-null    float64\n",
      " 1   Ax_Max      641 non-null    float64\n",
      " 2   Ax_Mean     641 non-null    float64\n",
      " 3   Ax_std      641 non-null    float64\n",
      " 4   Ax_med      641 non-null    float64\n",
      " 5   Ay_Min      641 non-null    float64\n",
      " 6   Ay_Max      641 non-null    float64\n",
      " 7   Ay_Mean     641 non-null    float64\n",
      " 8   Ay_std      641 non-null    float64\n",
      " 9   Ay_med      641 non-null    float64\n",
      " 10  Az_Min      641 non-null    float64\n",
      " 11  Az_Max      641 non-null    float64\n",
      " 12  Az_Mean     641 non-null    float64\n",
      " 13  Az_std      641 non-null    float64\n",
      " 14  Az_med      641 non-null    float64\n",
      " 15  Gx_Min      641 non-null    float64\n",
      " 16  Gx_Max      641 non-null    float64\n",
      " 17  Gx_Mean     641 non-null    float64\n",
      " 18  Gx_std      641 non-null    float64\n",
      " 19  Gx_med      641 non-null    float64\n",
      " 20  Gy_Min      641 non-null    float64\n",
      " 21  Gy_Max      641 non-null    float64\n",
      " 22  Gy_Mean     641 non-null    float64\n",
      " 23  Gy_std      641 non-null    float64\n",
      " 24  Gy_med      641 non-null    float64\n",
      " 25  Gz_Min      641 non-null    float64\n",
      " 26  Gz_Max      641 non-null    float64\n",
      " 27  Gz_Mean     641 non-null    float64\n",
      " 28  Gz_std      641 non-null    float64\n",
      " 29  Gz_med      641 non-null    float64\n",
      " 30  Pitch_Min   641 non-null    float64\n",
      " 31  Pitch_Max   641 non-null    float64\n",
      " 32  Pitch_Mean  641 non-null    float64\n",
      " 33  Pitch_std   641 non-null    float64\n",
      " 34  Pitch_med   641 non-null    float64\n",
      " 35  Roll_Min    641 non-null    float64\n",
      " 36  Roll_Max    641 non-null    float64\n",
      " 37  Roll_Mean   641 non-null    float64\n",
      " 38  Roll_std    641 non-null    float64\n",
      " 39  Roll_med    641 non-null    float64\n",
      "dtypes: float64(40)\n",
      "memory usage: 200.4 KB\n"
     ]
    }
   ],
   "source": [
    "Input.info()"
   ]
  },
  {
   "cell_type": "code",
   "execution_count": 64,
   "metadata": {},
   "outputs": [
    {
     "name": "stdout",
     "output_type": "stream",
     "text": [
      "{'Bicep_FL': 1, 'Bicep_FP': 2, 'Bicep_FS': 3, 'Bicep': 0, 'Rotation_FL': 7, 'Rotation': 5, 'Rotation2': 6, 'Straight_FL': 10, 'Straight_FP': 11, 'Straight_FS': 12, 'Straight': 8, 'Straight2': 9, 'Swing_FL': 14, 'Swing_FN': 15, 'Swing_FP': 16, 'Swing_FS': 17, 'Swing': 13, 'Bicep_FW': 4}\n"
     ]
    }
   ],
   "source": [
    "from sklearn.preprocessing import LabelEncoder\n",
    "labelencoder_Y = LabelEncoder()\n",
    "Output_l = labelencoder_Y.fit_transform(Output)\n",
    "le_name_mapping = dict(zip(Output, labelencoder_Y.transform(Output)))\n",
    "print(le_name_mapping)"
   ]
  },
  {
   "cell_type": "code",
   "execution_count": 65,
   "metadata": {},
   "outputs": [
    {
     "data": {
      "text/plain": [
       "<matplotlib.axes._subplots.AxesSubplot at 0x7fa842f1b6a0>"
      ]
     },
     "execution_count": 65,
     "metadata": {},
     "output_type": "execute_result"
    },
    {
     "data": {
      "image/png": "[encoded data removed]",
      "text/plain": [
       "<Figure size 432x288 with 2 Axes>"
      ]
     },
     "metadata": {
      "needs_background": "light"
     },
     "output_type": "display_data"
    }
   ],
   "source": [
    "sns.heatmap(Input.corr())"
   ]
  },
  {
   "cell_type": "code",
   "execution_count": 66,
   "metadata": {},
   "outputs": [
    {
     "name": "stdout",
     "output_type": "stream",
     "text": [
      "<class 'pandas.core.frame.DataFrame'>\n",
      "RangeIndex: 641 entries, 0 to 640\n",
      "Data columns (total 34 columns):\n",
      " #   Column     Non-Null Count  Dtype  \n",
      "---  ------     --------------  -----  \n",
      " 0   Ax_Min     641 non-null    float64\n",
      " 1   Ax_Max     641 non-null    float64\n",
      " 2   Ax_Mean    641 non-null    float64\n",
      " 3   Ax_std     641 non-null    float64\n",
      " 4   Ax_med     641 non-null    float64\n",
      " 5   Ay_Min     641 non-null    float64\n",
      " 6   Ay_Max     641 non-null    float64\n",
      " 7   Ay_Mean    641 non-null    float64\n",
      " 8   Ay_std     641 non-null    float64\n",
      " 9   Az_Min     641 non-null    float64\n",
      " 10  Az_Max     641 non-null    float64\n",
      " 11  Az_Mean    641 non-null    float64\n",
      " 12  Az_std     641 non-null    float64\n",
      " 13  Az_med     641 non-null    float64\n",
      " 14  Gx_Min     641 non-null    float64\n",
      " 15  Gx_Max     641 non-null    float64\n",
      " 16  Gx_Mean    641 non-null    float64\n",
      " 17  Gx_std     641 non-null    float64\n",
      " 18  Gx_med     641 non-null    float64\n",
      " 19  Gy_Min     641 non-null    float64\n",
      " 20  Gy_Max     641 non-null    float64\n",
      " 21  Gy_Mean    641 non-null    float64\n",
      " 22  Gy_std     641 non-null    float64\n",
      " 23  Gy_med     641 non-null    float64\n",
      " 24  Gz_Min     641 non-null    float64\n",
      " 25  Gz_Max     641 non-null    float64\n",
      " 26  Gz_Mean    641 non-null    float64\n",
      " 27  Gz_std     641 non-null    float64\n",
      " 28  Gz_med     641 non-null    float64\n",
      " 29  Pitch_Min  641 non-null    float64\n",
      " 30  Pitch_Max  641 non-null    float64\n",
      " 31  Roll_Min   641 non-null    float64\n",
      " 32  Roll_Max   641 non-null    float64\n",
      " 33  Roll_std   641 non-null    float64\n",
      "dtypes: float64(34)\n",
      "memory usage: 170.4 KB\n"
     ]
    }
   ],
   "source": [
    "corr = Input.corr();\n",
    "columns = np.full((corr.shape[0],), True, dtype=bool)\n",
    "for i in range(corr.shape[0]):\n",
    "    for j in range(i+1, corr.shape[0]):\n",
    "        if corr.iloc[i,j] >= 0.985:\n",
    "            if columns[j]:\n",
    "                columns[j] = False\n",
    "selected_columns = Input.columns[columns]\n",
    "extracted_data = Input[selected_columns]\n",
    "extracted_data.info()"
   ]
  },
  {
   "cell_type": "code",
   "execution_count": 70,
   "metadata": {},
   "outputs": [],
   "source": [
    "from sklearn.preprocessing import StandardScaler\n",
    "scaler = StandardScaler()\n",
    "x_scaled = scaler.fit_transform(Input)\n",
    "x_processed = scaler.fit_transform(extracted_data)"
   ]
  },
  {
   "cell_type": "code",
   "execution_count": 69,
   "metadata": {},
   "outputs": [],
   "source": [
    "from sklearn.model_selection import train_test_split\n",
    "X_train, X_test, y_train, y_test = train_test_split(Input, Output_l, test_size=0.3, random_state=42) # unprocessed features\n",
    "#X_train, X_test, y_train, y_test = train_test_split(x_scaled, Output_l, test_size=0.3, random_state=42) # unextracted but scaled features\n",
    "#X_train, X_test, y_train, y_test = train_test_split(extracted_data, Output_l, test_size=0.3, random_state=42) # extracted but unscaled features\n",
    "#X_train, X_test, y_train, y_test = train_test_split(x_processed, Output_l, test_size=0.3, random_state=42) # extraced and scaled features"
   ]
  }
 ],
 "metadata": {
  "kernelspec": {
   "display_name": "Python 3",
   "language": "python",
   "name": "python3"
  },
  "language_info": {
   "codemirror_mode": {
    "name": "ipython",
    "version": 3
   },
   "file_extension": ".py",
   "mimetype": "text/x-python",
   "name": "python",
   "nbconvert_exporter": "python",
   "pygments_lexer": "ipython3",
   "version": "3.8.3"
  }
 },
 "nbformat": 4,
 "nbformat_minor": 4
}
